{
 "cells": [
  {
   "cell_type": "code",
   "execution_count": null,
   "id": "9af2837e",
   "metadata": {},
   "outputs": [],
   "source": []
  },
  {
   "cell_type": "code",
   "execution_count": null,
   "id": "b3400eac",
   "metadata": {},
   "outputs": [],
   "source": []
  },
  {
   "cell_type": "code",
   "execution_count": null,
   "id": "6f1a3f08",
   "metadata": {},
   "outputs": [],
   "source": [
    "x = 2\n",
    "for i in range(1,11): \n",
    "    print(f\"{x} * {i} = {x*i}\")"
   ]
  },
  {
   "cell_type": "code",
   "execution_count": null,
   "id": "c763da22",
   "metadata": {},
   "outputs": [],
   "source": [
    "import numpy as np\n",
    "import matplotlib.pyplot as plt\n",
    "x = np.linspace(0,100,100)\n",
    "plt.plot(x,np.sin(x))\n",
    "plt.show()"
   ]
  },
  {
   "cell_type": "code",
   "execution_count": null,
   "id": "6334f360",
   "metadata": {},
   "outputs": [],
   "source": [
    "x = np.arange(0,4*np.pi,0.1)   # start,stop,step\n",
    "y = np.sin(x)\n",
    "plt.plot(x,y)\n",
    "plt.plot(x,np.cos(x))\n",
    "plt.title(\"Graphs of sin(x) and cos(x)\")\n",
    "plt.xlabel(\"x\")\n",
    "plt.ylabel(\"f(x)\")\n",
    "plt.show()"
   ]
  },
  {
   "cell_type": "code",
   "execution_count": null,
   "id": "c534cb25",
   "metadata": {},
   "outputs": [],
   "source": [
    "# splitting plots\n",
    "f1 = plt.figure()\n",
    "f2 = plt.figure()\n",
    "ax1 = f1.add_axes([0.1,0.1,0.8,0.8])\n",
    "ax1.plot(x,np.sin(x)**2)\n",
    "ax2 = f2.add_axes([0.1,0.1,0.8,0.8])\n",
    "ax2.plot(x,np.cos(x)**2, color='orange')"
   ]
  },
  {
   "cell_type": "code",
   "execution_count": null,
   "id": "88b869b6",
   "metadata": {},
   "outputs": [],
   "source": [
    "import matplotlib.pyplot as plt\n",
    "import numpy as np\n",
    "plt.figure(figsize=(10,5)) \n",
    "xvalues = np.linspace(-3, 3, 100)\n",
    "\n",
    "plt.subplot(1, 2, 1) \n",
    "yvalues = np.sin(xvalues)\n",
    "\n",
    "plt.plot(xvalues, yvalues, color='black') \n",
    "plt.xlabel('x')\n",
    "\n",
    "plt.ylabel(\"Sy=sin(x)^25\") \n",
    "plt.subplot(1, 2, 2)\n",
    "\n",
    "yvalues = np.cos(xvalues) \n",
    "plt.plot(xvalues, yvalues, color='red')\n",
    "\n",
    "plt.xlabel('x')\n",
    "\n",
    "plt.ylabel('$y=cos(x)^2$') \n",
    "plt.tight_layout()"
   ]
  },
  {
   "cell_type": "code",
   "execution_count": null,
   "id": "d3d3d81e",
   "metadata": {},
   "outputs": [],
   "source": [
    "#histogram \n",
    "\n",
    "import numpy as np\n",
    "\n",
    "import matplotlib.pyplot as plt\n",
    "\n",
    "x= np.array([22, 87, 5, 43, 56,73, 55, 54, 11, 20, 51, 5, 79, 31,27]) \n",
    "plt.hist(x, bins = [0, 25, 50, 75, 100], color= 'blue') \n",
    "plt.xlabel(\"x axis\")\n",
    "\n",
    "plt.ylabel(\"y axis\")\n",
    "plt.show()"
   ]
  },
  {
   "cell_type": "markdown",
   "id": "632d2cf5",
   "metadata": {},
   "source": [
    "### Solution for initial value problems "
   ]
  },
  {
   "cell_type": "markdown",
   "id": "503ef0e4",
   "metadata": {},
   "source": [
    "$\\frac{dy}{dx} = 2k, y(0) = 1$"
   ]
  },
  {
   "cell_type": "code",
   "execution_count": null,
   "id": "e16606ed",
   "metadata": {},
   "outputs": [],
   "source": [
    "from numpy import *\n",
    "\n",
    "from matplotlib.pyplot import *\n",
    "\n",
    "from scipy.integrate import odeint \n",
    "\n",
    "plt.figure(figsize=(6,6))\n",
    "\n",
    "plt.style.use(\"seaborn-whitegrid\")\n",
    "\n",
    "plt.xticks(fontsize=14) \n",
    "\n",
    "plt.yticks(fontsize=14)\n",
    "\n",
    "plt.axhline(0, color = \"black\") \n",
    "\n",
    "plt.axvline(0,color= \"black\") \n",
    "\n",
    "plt.xlabel(\"x axis\", fontsize=14)\n",
    "\n",
    "plt.ylabel(\"y axis\", fontsize=14) \n",
    "\n",
    "def model(y,t,k): # define a function that returns dy/dx\n",
    "    dydx= 2*k\n",
    "    return dydx\n",
    "y0 = 1 #initial condtition\n",
    "t = linspace(0,20,50) #timepoints\n",
    "#solve ode\n",
    "k = 1\n",
    "yk1 = odeint(model, y0, t, args=(k,))\n",
    "k = 2\n",
    "yk2 = odeint(model, y0, t, args=(k,))\n",
    "k = 5\n",
    "yk3 = odeint(model, y0, t, args=(k,))\n",
    "plot(t, yk1, 'r', label = \"k=1\")\n",
    "plot(t, yk2, 'b.-', label = \"k=2\")\n",
    "plot(t, yk3, 'k+', label = \"k=2\")\n",
    "plt.legend()"
   ]
  },
  {
   "cell_type": "code",
   "execution_count": null,
   "id": "0520ff44",
   "metadata": {},
   "outputs": [],
   "source": [
    "def model(y,t,k): \n",
    "    dydx= k*y\n",
    "    return dydx\n",
    "\n",
    "k = 1 \n",
    "y0 = 1 #initial condtition\n",
    "t = linspace(0,10,50)\n",
    "yk1 = odeint(model, y0, t, args=(k,))\n",
    "plot(t, yk1)"
   ]
  },
  {
   "cell_type": "code",
   "execution_count": null,
   "id": "310750d1",
   "metadata": {},
   "outputs": [],
   "source": [
    "# dy/dx = -0.3y, y(0) =5\n",
    "\n",
    "def model(y,t,k): \n",
    "    dydx= -0.3*y\n",
    "    return dydx\n",
    "y0 = 5\n",
    "t = linspace(0,10,50)\n",
    "yk1 = odeint(model, y0, t, args=(k,))\n",
    "plot(t, yk1)"
   ]
  },
  {
   "cell_type": "markdown",
   "id": "71b14ac9",
   "metadata": {},
   "source": [
    "y'' + 2y + y = 0 initial conditions: y(0) = 5, y(0) = -3 "
   ]
  },
  {
   "cell_type": "code",
   "execution_count": null,
   "id": "454e1f50",
   "metadata": {},
   "outputs": [],
   "source": [
    "plt.xticks(fontsize=14) \n",
    "plt.yticks(fontsize=14)\n",
    "\n",
    "plt.axhline(0, color=\"black\")\n",
    "\n",
    "plt.axvline(0, color=\"black\")\n",
    "\n",
    "plt.xlabel(\"x axis \",fontsize=14)\n",
    "\n",
    "plt.ylabel(\"y axis \", fontsize=14) \n",
    "\n",
    "def du_dx(u,x):\n",
    "    return [u[1],-2*u[1]-u[0]]\n",
    "\n",
    "u0=[5,-3]\n",
    "xs = linspace(0,10,200)\n",
    "us = odeint(du_dx, u0,xs)\n",
    "\n",
    "ys=us[:0] \n",
    "plt.plot(xs,us, color=\"red\") \n",
    "plt.title(\"Solution of $y+2y+y=0$\", fontsize=14)"
   ]
  },
  {
   "cell_type": "markdown",
   "id": "fce4c7cb",
   "metadata": {},
   "source": [
    "## Topic -2: Growth of a population"
   ]
  },
  {
   "cell_type": "markdown",
   "id": "80c74b8a",
   "metadata": {},
   "source": [
    "A growth of a population represents the dynamics where the population's growth rate increases over time, in proportion to "
   ]
  },
  {
   "cell_type": "markdown",
   "id": "5384cd5b",
   "metadata": {},
   "source": [
    "$$\\frac{dp}{dt} \\propto P(t)$$\n",
    "$$\\frac{dp}{dt} = kP(t)$$"
   ]
  },
  {
   "cell_type": "markdown",
   "id": "49ccb742",
   "metadata": {},
   "source": [
    "1. The population of a town was 100. After 6 years, the population increased to 800. Find the population of the twon after 8 years. "
   ]
  },
  {
   "cell_type": "code",
   "execution_count": null,
   "id": "95c8091d",
   "metadata": {},
   "outputs": [],
   "source": [
    "# The population of a town was 100. After 6 years, the population increased to 800. \n",
    "# Find the population of the town after 8 years. \n",
    "from sympy import Symbol, Function, Eq, dsolve, solve, init_printing \n",
    "import numpy as np\n",
    "init_printing(use_unicode=True)\n",
    "t = Symbol('t')\n",
    "k = Symbol('k')\n",
    "p = Function('p')(t)\n",
    "C1 = Symbol('C1')"
   ]
  },
  {
   "cell_type": "code",
   "execution_count": null,
   "id": "83267ef7",
   "metadata": {},
   "outputs": [],
   "source": [
    "diff1= Eq(p.diff(t),k*p)\n",
    "diff1"
   ]
  },
  {
   "cell_type": "code",
   "execution_count": null,
   "id": "b32c9729",
   "metadata": {},
   "outputs": [],
   "source": [
    "soln = dsolve(diff1)\n",
    "soln"
   ]
  },
  {
   "cell_type": "code",
   "execution_count": null,
   "id": "fb08823c",
   "metadata": {},
   "outputs": [],
   "source": [
    "soln.subs({p:100, t:0}) #to find c1 value "
   ]
  },
  {
   "cell_type": "code",
   "execution_count": null,
   "id": "3fc80ba4",
   "metadata": {},
   "outputs": [],
   "source": [
    "sol2 = soln.subs({C1:100})\n",
    "sol2"
   ]
  },
  {
   "cell_type": "code",
   "execution_count": null,
   "id": "b3879645",
   "metadata": {},
   "outputs": [],
   "source": [
    "import sympy\n",
    "kval = float(sympy.solve(sol2.subs({p:800, t:6}))[-1])\n",
    "kval"
   ]
  },
  {
   "cell_type": "code",
   "execution_count": null,
   "id": "bb0de87a",
   "metadata": {},
   "outputs": [],
   "source": [
    "float(sympy.solve(sol2.subs({p:800, t:6,C1:100}))[-1])"
   ]
  },
  {
   "cell_type": "code",
   "execution_count": null,
   "id": "f7e424ed",
   "metadata": {},
   "outputs": [],
   "source": [
    "sol2.subs({k:0.346, t:8})"
   ]
  },
  {
   "cell_type": "code",
   "execution_count": null,
   "id": "73a19b92",
   "metadata": {},
   "outputs": [],
   "source": [
    "x = np.linspace(0,10,100)\n",
    "y = 100*np.e**(0.346*x)\n",
    "import matplotlib.pyplot as plt\n",
    "plt.plot(x,y)\n",
    "plt.annotate(\"(8,1600)\",xy=(8,1600))\n",
    "plt.grid()"
   ]
  },
  {
   "cell_type": "markdown",
   "id": "17eb788d",
   "metadata": {},
   "source": [
    "### 2. If the population of a town was 100 and has doubled in the last 25 years from 1 lakh, when will the town's population reach 5 lakh ? "
   ]
  },
  {
   "cell_type": "code",
   "execution_count": null,
   "id": "f30ef56c",
   "metadata": {},
   "outputs": [],
   "source": [
    "from sympy import Symbol, Function, Eq, dsolve, solve, init_printing \n",
    "import numpy as np\n",
    "init_printing(use_unicode=True)\n",
    "t = Symbol('t')\n",
    "k = Symbol('k')\n",
    "p = Function('p')(t)\n",
    "C1 = Symbol('C1')"
   ]
  },
  {
   "cell_type": "code",
   "execution_count": null,
   "id": "2abd0b0d",
   "metadata": {},
   "outputs": [],
   "source": [
    "diff2 = Eq(p.diff(t),k*p)\n",
    "diff2"
   ]
  },
  {
   "cell_type": "code",
   "execution_count": null,
   "id": "5e76c502",
   "metadata": {},
   "outputs": [],
   "source": [
    "sol = dsolve(diff2)\n",
    "sol"
   ]
  },
  {
   "cell_type": "code",
   "execution_count": null,
   "id": "3d1581d5",
   "metadata": {},
   "outputs": [],
   "source": [
    "kval = float(solve(sol.subs({C1:100000,p:200000,t:25}))[4])\n",
    "kval"
   ]
  },
  {
   "cell_type": "code",
   "execution_count": null,
   "id": "bbf87729",
   "metadata": {},
   "outputs": [],
   "source": [
    "round(sympy.solve(sol.subs({C1:100000,p:500000,k:0.0277}))[0])"
   ]
  },
  {
   "cell_type": "code",
   "execution_count": null,
   "id": "ab1483ce",
   "metadata": {},
   "outputs": [],
   "source": [
    "x = np.linspace(0,10,100)\n",
    "y = 100*np.e**(0.0277*x)\n",
    "import matplotlib.pyplot as plt\n",
    "plt.plot(x,y)\n",
    "plt.annotate(\"(8,125)\",xy=(8,125))\n",
    "plt.grid()"
   ]
  },
  {
   "cell_type": "markdown",
   "id": "b30b32a6",
   "metadata": {},
   "source": [
    "### There are 1000 birds in an island. THey breed with a continuous rate of 10% a year. How many birds are present after 7 years? "
   ]
  },
  {
   "cell_type": "code",
   "execution_count": null,
   "id": "29863352",
   "metadata": {},
   "outputs": [],
   "source": [
    "from numpy import * \n",
    "from scipy.integrate import odeint\n",
    "import matplotlib.pyplot as plt\n",
    "plt.figure(figsize(7,7))\n",
    "plt.style.use(\"seaborn.whitegrid\")"
   ]
  },
  {
   "cell_type": "code",
   "execution_count": null,
   "id": "602fd71e",
   "metadata": {},
   "outputs": [],
   "source": [
    "from sympy import * \n",
    "init_printing(use_unicode=True)\n",
    "t = Symbol('t')\n",
    "k = Symbol('k')\n",
    "p = Function('p')(t)\n",
    "C1 = Symbol('C1')"
   ]
  },
  {
   "cell_type": "code",
   "execution_count": null,
   "id": "e1d81b08",
   "metadata": {},
   "outputs": [],
   "source": [
    "diff1= Eq(p.diff(t),k*p)\n",
    "diff1"
   ]
  },
  {
   "cell_type": "code",
   "execution_count": null,
   "id": "db4a8fbf",
   "metadata": {},
   "outputs": [],
   "source": [
    "sol1 = dsolve(diff1)\n",
    "sol1"
   ]
  },
  {
   "cell_type": "code",
   "execution_count": null,
   "id": "819faa48",
   "metadata": {},
   "outputs": [],
   "source": [
    "sol1.subs({k:0.1, t:7, C1:1000}) #to find c1 value "
   ]
  },
  {
   "cell_type": "code",
   "execution_count": null,
   "id": "187625e6",
   "metadata": {},
   "outputs": [],
   "source": [
    "t = linspace(0,10,5)\n",
    "p = 1000*exp(0.1*t)\n",
    "plt.plot(t,p)\n",
    "plt.show()"
   ]
  },
  {
   "cell_type": "markdown",
   "id": "47284fd1",
   "metadata": {},
   "source": [
    "## Logistics growth model"
   ]
  },
  {
   "cell_type": "markdown",
   "id": "83a0a208",
   "metadata": {},
   "source": [
    "In logistics growth, a population's per capita growth rate gbets smaller and smaller as population size approaches a maximum imposed by limited resources int he environment, known as the carrying capacity (K). Exponential growth produces a J-shaped while logistic growth produces an S-shaped curve. "
   ]
  },
  {
   "cell_type": "markdown",
   "id": "ab620a38",
   "metadata": {},
   "source": [
    "Biologists stock a lake with 500 fish and estimate the carrying capacity to be 10,000. The number of fish increased by 3 times during the first year. Assuming that the size of the fish population satisfies the logistic equation, find the expression after 't' years. How long does it take for the population to reach 4000. "
   ]
  },
  {
   "cell_type": "code",
   "execution_count": null,
   "id": "ca5443e0",
   "metadata": {},
   "outputs": [],
   "source": [
    "from sympy import * \n",
    "init_printing(use_unicode=True)\n",
    "t = Symbol('t')\n",
    "r = Symbol('r')\n",
    "p = Function('p')(t)\n",
    "C1 = Symbol('C1')"
   ]
  },
  {
   "cell_type": "code",
   "execution_count": null,
   "id": "87dc00f6",
   "metadata": {},
   "outputs": [],
   "source": [
    "diff1= Eq(p.diff(t),r*p*(1-p/r))\n",
    "diff1"
   ]
  },
  {
   "cell_type": "markdown",
   "id": "9120ab33",
   "metadata": {},
   "source": [
    "Analyse the growth of yeast cells with the help of tabulating the values and presenting the data in the form of graphs."
   ]
  },
  {
   "cell_type": "markdown",
   "id": "62aee8f7",
   "metadata": {},
   "source": [
    "Plot the data to estimate the carrying capacity for the yeast population. Use the data to estimate the initial relative growth rate (constant of proportionality). Find the graphs of exponential and logistic model for this data"
   ]
  },
  {
   "cell_type": "markdown",
   "id": "09afcc0a",
   "metadata": {},
   "source": [
    "#### Time:  \t    0, 10, 20, 40.... 100\n",
    "#### Yeast cells:   20, 55, 97,149, 195, 232, 260, 275, 283, 291, 296"
   ]
  },
  {
   "cell_type": "markdown",
   "id": "37b7f628",
   "metadata": {},
   "source": [
    "|Time(hrs)|0|10|20|30|40|50|60|70|80|90|100|\n",
    "|---|---|---|---|---|---|---|---|---|---|---|---|\n",
    "|Yeast Cells|20|55|97|149|195|232|260|275|283|291|296|"
   ]
  },
  {
   "cell_type": "code",
   "execution_count": 22,
   "id": "11dbffff",
   "metadata": {},
   "outputs": [
    {
     "data": {
      "text/plain": [
       "<Figure size 504x504 with 0 Axes>"
      ]
     },
     "execution_count": 22,
     "metadata": {},
     "output_type": "execute_result"
    },
    {
     "data": {
      "text/plain": [
       "<Figure size 504x504 with 0 Axes>"
      ]
     },
     "metadata": {},
     "output_type": "display_data"
    }
   ],
   "source": [
    "from numpy import * \n",
    "import matplotlib.pyplot as plt \n",
    "plt.figure(figsize=(7,7))"
   ]
  },
  {
   "cell_type": "code",
   "execution_count": 24,
   "id": "95829064",
   "metadata": {},
   "outputs": [
    {
     "data": {
      "image/png": "[encoded data removed]",
      "text/plain": [
       "<Figure size 432x288 with 1 Axes>"
      ]
     },
     "metadata": {
      "needs_background": "light"
     },
     "output_type": "display_data"
    }
   ],
   "source": [
    "x = arange(0, 110, 10)\n",
    "y = [20, 55, 97,149, 195, 232, 260, 275, 283, 291, 296]\n",
    "plt.plot(x,y)\n",
    "plt.show()\n",
    "# init_printing(use_unicode=True)\n",
    "# t= Symbol('t')\n",
    "# r= Symbol('r')\n",
    "# p= Function('p')(t)\n",
    "# C1= Symbol('C1')"
   ]
  },
  {
   "cell_type": "code",
   "execution_count": 23,
   "metadata": {},
   "outputs": [],
   "source": [
    "from sympy import Symbol, Function, Eq, dsolve, solve, init_printing \n",
    "import numpy as np\n",
    "init_printing(use_unicode=True)\n",
    "t = Symbol('t')\n",
    "k = Symbol('k')\n",
    "p = Function('p')(t)\n",
    "C1 = Symbol('C1')"
   ]
  },
  {
   "cell_type": "code",
   "execution_count": 25,
   "metadata": {},
   "outputs": [
    {
     "data": {
      "image/png": "[encoded data removed]",
      "text/latex": [
       "$\\displaystyle \\frac{d}{d t} p{\\left(t \\right)} = k p{\\left(t \\right)}$"
      ],
      "text/plain": [
       "d                \n",
       "──(p(t)) = k⋅p(t)\n",
       "dt               "
      ]
     },
     "execution_count": 25,
     "metadata": {},
     "output_type": "execute_result"
    }
   ],
   "source": [
    "diff2 = Eq(p.diff(t),k*p)\n",
    "diff2"
   ]
  },
  {
   "cell_type": "code",
   "execution_count": 27,
   "metadata": {},
   "outputs": [
    {
     "data": {
      "image/png": "[encoded data removed]",
      "text/latex": [
       "$\\displaystyle p{\\left(t \\right)} = C_{1} e^{k t}$"
      ],
      "text/plain": [
       "           k⋅t\n",
       "p(t) = C₁⋅ℯ   "
      ]
     },
     "execution_count": 27,
     "metadata": {},
     "output_type": "execute_result"
    }
   ],
   "source": [
    "sol1=dsolve(diff2)\n",
    "sol1"
   ]
  },
  {
   "cell_type": "code",
   "execution_count": 29,
   "metadata": {},
   "outputs": [
    {
     "data": {
      "image/png": "[encoded data removed]",
      "text/latex": [
       "$\\displaystyle 20 = C_{1}$"
      ],
      "text/plain": [
       "20 = C₁"
      ]
     },
     "execution_count": 29,
     "metadata": {},
     "output_type": "execute_result"
    }
   ],
   "source": [
    "sol1.subs({t:0, p:20})"
   ]
  },
  {
   "cell_type": "code",
   "execution_count": null,
   "metadata": {},
   "outputs": [],
   "source": []
  }
 ],
 "metadata": {
  "kernelspec": {
   "display_name": "Python 3 (ipykernel)",
   "language": "python",
   "name": "python3"
  },
  "language_info": {
   "codemirror_mode": {
    "name": "ipython",
    "version": 3
   },
   "file_extension": ".py",
   "mimetype": "text/x-python",
   "name": "python",
   "nbconvert_exporter": "python",
   "pygments_lexer": "ipython3",
   "version": "3.10.4"
  }
 },
 "nbformat": 4,
 "nbformat_minor": 5
}
